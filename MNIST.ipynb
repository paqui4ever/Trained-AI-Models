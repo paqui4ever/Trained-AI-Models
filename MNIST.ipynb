{
  "nbformat": 4,
  "nbformat_minor": 0,
  "metadata": {
    "colab": {
      "provenance": [],
      "gpuType": "T4"
    },
    "kernelspec": {
      "name": "python3",
      "display_name": "Python 3"
    },
    "language_info": {
      "name": "python"
    },
    "accelerator": "GPU"
  },
  "cells": [
    {
      "cell_type": "code",
      "execution_count": null,
      "metadata": {
        "id": "Zt3DLH7yI7Fv"
      },
      "outputs": [],
      "source": [
        "import numpy as np\n",
        "import torch\n",
        "from torch.utils.data import DataLoader, TensorDataset\n",
        "import torch.nn as nn\n",
        "import torchvision\n",
        "import matplotlib.pyplot as plt\n",
        "import torch.optim as optim\n",
        "from tqdm import tqdm"
      ]
    },
    {
      "cell_type": "code",
      "source": [
        "device = torch.device(\"cuda\") # Defino mi device para poder usar la GPU"
      ],
      "metadata": {
        "id": "T2WI3qoU4gut"
      },
      "execution_count": null,
      "outputs": []
    },
    {
      "cell_type": "code",
      "source": [
        "ds = torchvision.datasets.MNIST(root = \"./data\", download = True, train = True) # Defino mi dataset, que lo bajo de los ds de torchvision"
      ],
      "metadata": {
        "id": "OeKVv7riKF7T",
        "colab": {
          "base_uri": "https://localhost:8080/"
        },
        "outputId": "2a1ef9b4-ccb4-4e14-f48f-334bad9b2734"
      },
      "execution_count": null,
      "outputs": [
        {
          "output_type": "stream",
          "name": "stdout",
          "text": [
            "Downloading http://yann.lecun.com/exdb/mnist/train-images-idx3-ubyte.gz\n",
            "Failed to download (trying next):\n",
            "HTTP Error 403: Forbidden\n",
            "\n",
            "Downloading https://ossci-datasets.s3.amazonaws.com/mnist/train-images-idx3-ubyte.gz\n",
            "Downloading https://ossci-datasets.s3.amazonaws.com/mnist/train-images-idx3-ubyte.gz to ./data/MNIST/raw/train-images-idx3-ubyte.gz\n"
          ]
        },
        {
          "output_type": "stream",
          "name": "stderr",
          "text": [
            "100%|██████████| 9912422/9912422 [00:02<00:00, 4594024.59it/s]\n"
          ]
        },
        {
          "output_type": "stream",
          "name": "stdout",
          "text": [
            "Extracting ./data/MNIST/raw/train-images-idx3-ubyte.gz to ./data/MNIST/raw\n",
            "\n",
            "Downloading http://yann.lecun.com/exdb/mnist/train-labels-idx1-ubyte.gz\n",
            "Failed to download (trying next):\n",
            "HTTP Error 403: Forbidden\n",
            "\n",
            "Downloading https://ossci-datasets.s3.amazonaws.com/mnist/train-labels-idx1-ubyte.gz\n",
            "Downloading https://ossci-datasets.s3.amazonaws.com/mnist/train-labels-idx1-ubyte.gz to ./data/MNIST/raw/train-labels-idx1-ubyte.gz\n"
          ]
        },
        {
          "output_type": "stream",
          "name": "stderr",
          "text": [
            "100%|██████████| 28881/28881 [00:00<00:00, 134429.57it/s]\n"
          ]
        },
        {
          "output_type": "stream",
          "name": "stdout",
          "text": [
            "Extracting ./data/MNIST/raw/train-labels-idx1-ubyte.gz to ./data/MNIST/raw\n",
            "\n",
            "Downloading http://yann.lecun.com/exdb/mnist/t10k-images-idx3-ubyte.gz\n",
            "Failed to download (trying next):\n",
            "HTTP Error 403: Forbidden\n",
            "\n",
            "Downloading https://ossci-datasets.s3.amazonaws.com/mnist/t10k-images-idx3-ubyte.gz\n",
            "Downloading https://ossci-datasets.s3.amazonaws.com/mnist/t10k-images-idx3-ubyte.gz to ./data/MNIST/raw/t10k-images-idx3-ubyte.gz\n"
          ]
        },
        {
          "output_type": "stream",
          "name": "stderr",
          "text": [
            "100%|██████████| 1648877/1648877 [00:01<00:00, 1091684.71it/s]\n"
          ]
        },
        {
          "output_type": "stream",
          "name": "stdout",
          "text": [
            "Extracting ./data/MNIST/raw/t10k-images-idx3-ubyte.gz to ./data/MNIST/raw\n",
            "\n",
            "Downloading http://yann.lecun.com/exdb/mnist/t10k-labels-idx1-ubyte.gz\n",
            "Failed to download (trying next):\n",
            "HTTP Error 403: Forbidden\n",
            "\n",
            "Downloading https://ossci-datasets.s3.amazonaws.com/mnist/t10k-labels-idx1-ubyte.gz\n",
            "Downloading https://ossci-datasets.s3.amazonaws.com/mnist/t10k-labels-idx1-ubyte.gz to ./data/MNIST/raw/t10k-labels-idx1-ubyte.gz\n"
          ]
        },
        {
          "output_type": "stream",
          "name": "stderr",
          "text": [
            "100%|██████████| 4542/4542 [00:00<00:00, 3890244.80it/s]"
          ]
        },
        {
          "output_type": "stream",
          "name": "stdout",
          "text": [
            "Extracting ./data/MNIST/raw/t10k-labels-idx1-ubyte.gz to ./data/MNIST/raw\n",
            "\n"
          ]
        },
        {
          "output_type": "stream",
          "name": "stderr",
          "text": [
            "\n"
          ]
        }
      ]
    },
    {
      "cell_type": "code",
      "source": [
        "ds[0] # Aplicando np.array() sobre cada primer elemento de las tuplas de ds paso la PIL image a array de numpys"
      ],
      "metadata": {
        "colab": {
          "base_uri": "https://localhost:8080/"
        },
        "id": "IEop8_JmQmvl",
        "outputId": "04aeaf66-1464-4366-9fa0-c963b22c1478"
      },
      "execution_count": null,
      "outputs": [
        {
          "output_type": "execute_result",
          "data": {
            "text/plain": [
              "(<PIL.Image.Image image mode=L size=28x28>, 5)"
            ]
          },
          "metadata": {},
          "execution_count": 17
        }
      ]
    },
    {
      "cell_type": "code",
      "source": [
        "x_total = torch.tensor(list(map(lambda z: np.array(z[0]), ds)), dtype=torch.float32).to(device) # Convierto en tensor de tensores a la\n",
        "                                                                                                # lista de primeros elementos de las tuplas de ds\n",
        "y_total = (torch.nn.functional.one_hot(torch.tensor(list(map(lambda z: z[1], ds))), num_classes=10)).to(torch.float32).to(device) # Paso todos los labels convertidos en tensores a one hot encoding\n",
        "                                                                                                                                  #para ver que número del 0 al 9 está siendo representado"
      ],
      "metadata": {
        "id": "QSRwFtaMQmrK"
      },
      "execution_count": null,
      "outputs": []
    },
    {
      "cell_type": "code",
      "source": [
        "x_total.shape, y_total.shape"
      ],
      "metadata": {
        "colab": {
          "base_uri": "https://localhost:8080/"
        },
        "id": "0jwbEHhHQmoe",
        "outputId": "397edc79-257a-4841-fdfa-26433e5efa34"
      },
      "execution_count": null,
      "outputs": [
        {
          "output_type": "execute_result",
          "data": {
            "text/plain": [
              "(torch.Size([60000, 28, 28]), torch.Size([60000, 10]))"
            ]
          },
          "metadata": {},
          "execution_count": 30
        }
      ]
    },
    {
      "cell_type": "markdown",
      "source": [
        "Divido el dataset original en training y testing, creo sus loaders"
      ],
      "metadata": {
        "id": "mrWkXUA76CSk"
      }
    },
    {
      "cell_type": "code",
      "source": [
        "x_train = x_total[:50000].view(-1,1,28,28)\n",
        "y_train = y_total[:50000]\n",
        "x_test = x_total[50000:].view(-1,1,28,28)\n",
        "y_test = y_total[50000:]\n",
        "\n",
        "train_dataset = TensorDataset(x_train, y_train)\n",
        "train_loader = torch.utils.data.DataLoader (dataset = train_dataset, batch_size = 32, shuffle = True)\n",
        "test_dataset = TensorDataset(x_test, y_test)\n",
        "test_loader = torch.utils.data.DataLoader (dataset = test_dataset, batch_size = 32, shuffle = True)\n"
      ],
      "metadata": {
        "id": "cbtHE1k7Qmb6"
      },
      "execution_count": null,
      "outputs": []
    },
    {
      "cell_type": "markdown",
      "source": [
        "Creo el modelo\n",
        "\n",
        "\n",
        "---\n",
        "\n"
      ],
      "metadata": {
        "id": "tjMtNKnrV0S6"
      }
    },
    {
      "cell_type": "code",
      "source": [
        "x_train.shape"
      ],
      "metadata": {
        "colab": {
          "base_uri": "https://localhost:8080/"
        },
        "id": "2eibduhWtxCV",
        "outputId": "3f15107a-345b-400d-eb29-336272b79de0"
      },
      "execution_count": null,
      "outputs": [
        {
          "output_type": "execute_result",
          "data": {
            "text/plain": [
              "torch.Size([50000, 28, 28, 1])"
            ]
          },
          "metadata": {},
          "execution_count": 107
        }
      ]
    },
    {
      "cell_type": "code",
      "source": [
        "model = nn.Sequential(\n",
        "    # Primera convolutional layer\n",
        "    nn.Conv2d(in_channels=1, out_channels=32, kernel_size=3, stride=1, padding=1),\n",
        "    nn.ReLU(),\n",
        "    # Segunda convolutional layer\n",
        "    nn.Conv2d(in_channels = 32, out_channels = 64, kernel_size=3, stride=2, padding=1),\n",
        "    nn.ReLU(),\n",
        "    # Aplano las dos convolutional layers\n",
        "    nn.Flatten(),\n",
        "    nn.Linear(64 * 14 * 14, 128),\n",
        "    nn.ReLU(),\n",
        "    nn.Linear(128,10)\n",
        ").to(device)\n"
      ],
      "metadata": {
        "id": "E2hAYHWGV3Ci"
      },
      "execution_count": null,
      "outputs": []
    },
    {
      "cell_type": "code",
      "source": [
        "data_iter = iter(train_loader) # Hago iterable el loader del training set\n",
        "img_batch = next(data_iter) # Divido en batches aprovechando que es iterable con next()"
      ],
      "metadata": {
        "id": "o7M2Qj_Ks2nY"
      },
      "execution_count": null,
      "outputs": []
    },
    {
      "cell_type": "code",
      "source": [
        "img_batch[0].shape # Verifico tamaño de los batches"
      ],
      "metadata": {
        "colab": {
          "base_uri": "https://localhost:8080/"
        },
        "id": "cKeY8Psqwrmf",
        "outputId": "728119d5-ce4d-42d6-8514-051ab8cb8133"
      },
      "execution_count": null,
      "outputs": [
        {
          "output_type": "execute_result",
          "data": {
            "text/plain": [
              "torch.Size([32, 1, 28, 28])"
            ]
          },
          "metadata": {},
          "execution_count": 10
        }
      ]
    },
    {
      "cell_type": "markdown",
      "source": [
        "Entreno el modelo con un loop de entrenamiento\n"
      ],
      "metadata": {
        "id": "VDdl6Vpr62Wb"
      }
    },
    {
      "cell_type": "code",
      "source": [
        "criterion = nn.MSELoss().to(device)\n",
        "optimizer = optim.SGD(model.parameters(), lr=1e-3)\n",
        "test_iter = iter(test_loader)\n",
        "test_batch = next(test_iter)\n",
        "num_epochs = 100\n",
        "for epoch in range(num_epochs):\n",
        "  for inputs, targets in tqdm(train_loader):\n",
        "      inputs = inputs.to(device).float()  # Muevo entradas a la GPU y convertir a float\n",
        "      targets = targets.to(device).float()\n",
        "      optimizer.zero_grad()  # Reinicio gradientes acumulados\n",
        "      outputs = model(inputs)  # Calculo predicciones\n",
        "      loss = criterion(outputs.squeeze(), targets.float())  # Calculo la pérdida\n",
        "      loss.backward()  # Retropropagación\n",
        "      optimizer.step()\n",
        "\n",
        "  correct_predictions = 0\n",
        "  total_predictions = 0\n",
        "\n",
        "  with torch.no_grad(): # Por cada epoch pruebo el accuracy del modelo con el dataset de testing\n",
        "    for test_inputs, test_targets in test_loader:\n",
        "      test_inputs = test_inputs.to(device).float()\n",
        "      test_targets = test_targets.to(device).long()\n",
        "      test_outputs = model(test_inputs)\n",
        "      _, predicted = torch.max(test_outputs, 1)\n",
        "      correct_predictions += (predicted == torch.argmax(test_targets, dim=1)).sum().item()\n",
        "      total_predictions += test_targets.size(0)\n",
        "\n",
        "  accuracy = (correct_predictions / total_predictions) * 100\n",
        "  print(f\"Accuracy: {accuracy}\")\n",
        "\n",
        "\n",
        "\n",
        "\n"
      ],
      "metadata": {
        "id": "Jos5UXlyOlkx",
        "colab": {
          "base_uri": "https://localhost:8080/",
          "height": 216
        },
        "outputId": "7aa448ea-c15d-44bc-ff80-5b58495e04ad"
      },
      "execution_count": null,
      "outputs": [
        {
          "output_type": "error",
          "ename": "NameError",
          "evalue": "name 'nn' is not defined",
          "traceback": [
            "\u001b[0;31m---------------------------------------------------------------------------\u001b[0m",
            "\u001b[0;31mNameError\u001b[0m                                 Traceback (most recent call last)",
            "\u001b[0;32m<ipython-input-1-13ae2a63b2a9>\u001b[0m in \u001b[0;36m<cell line: 1>\u001b[0;34m()\u001b[0m\n\u001b[0;32m----> 1\u001b[0;31m \u001b[0mcriterion\u001b[0m \u001b[0;34m=\u001b[0m \u001b[0mnn\u001b[0m\u001b[0;34m.\u001b[0m\u001b[0mMSELoss\u001b[0m\u001b[0;34m(\u001b[0m\u001b[0;34m)\u001b[0m\u001b[0;34m.\u001b[0m\u001b[0mto\u001b[0m\u001b[0;34m(\u001b[0m\u001b[0mdevice\u001b[0m\u001b[0;34m)\u001b[0m\u001b[0;34m\u001b[0m\u001b[0;34m\u001b[0m\u001b[0m\n\u001b[0m\u001b[1;32m      2\u001b[0m \u001b[0moptimizer\u001b[0m \u001b[0;34m=\u001b[0m \u001b[0moptim\u001b[0m\u001b[0;34m.\u001b[0m\u001b[0mSGD\u001b[0m\u001b[0;34m(\u001b[0m\u001b[0mmodel\u001b[0m\u001b[0;34m.\u001b[0m\u001b[0mparameters\u001b[0m\u001b[0;34m(\u001b[0m\u001b[0;34m)\u001b[0m\u001b[0;34m,\u001b[0m \u001b[0mlr\u001b[0m\u001b[0;34m=\u001b[0m\u001b[0;36m1e-3\u001b[0m\u001b[0;34m)\u001b[0m\u001b[0;34m\u001b[0m\u001b[0;34m\u001b[0m\u001b[0m\n\u001b[1;32m      3\u001b[0m \u001b[0mtest_iter\u001b[0m \u001b[0;34m=\u001b[0m \u001b[0miter\u001b[0m\u001b[0;34m(\u001b[0m\u001b[0mtest_loader\u001b[0m\u001b[0;34m)\u001b[0m\u001b[0;34m\u001b[0m\u001b[0;34m\u001b[0m\u001b[0m\n\u001b[1;32m      4\u001b[0m \u001b[0mtest_batch\u001b[0m \u001b[0;34m=\u001b[0m \u001b[0mnext\u001b[0m\u001b[0;34m(\u001b[0m\u001b[0mtest_iter\u001b[0m\u001b[0;34m)\u001b[0m\u001b[0;34m\u001b[0m\u001b[0;34m\u001b[0m\u001b[0m\n\u001b[1;32m      5\u001b[0m \u001b[0mnum_epochs\u001b[0m \u001b[0;34m=\u001b[0m \u001b[0;36m100\u001b[0m\u001b[0;34m\u001b[0m\u001b[0;34m\u001b[0m\u001b[0m\n",
            "\u001b[0;31mNameError\u001b[0m: name 'nn' is not defined"
          ]
        }
      ]
    },
    {
      "cell_type": "markdown",
      "source": [
        "Pruebo el modelo con una parte del test dataset\n"
      ],
      "metadata": {
        "id": "B__Ygbwo67BS"
      }
    },
    {
      "cell_type": "code",
      "source": [
        "image, label = test_dataset[1]\n",
        "image = image.unsqueeze(0).to(device) # Le agrego una dimension en la posición 0 así pasa bien por el conv2d del modelo\n",
        "# Hago la predicción desactivando el descenso de gradiente para que sea mas rapido\n",
        "with torch.no_grad():\n",
        "    output = model(torch.tensor(image)).to(device)\n",
        "\n",
        "# Obtengo la clase predicha (índice de la salida con mayor valor de probabilidad, o sea el indice de qué clase tiene más probabilidad de ser la correcta)\n",
        "predicted_class = output.argmax(dim=1).item()\n",
        "\n",
        "print(f'Predicted class: {predicted_class}')\n",
        "image = image.squeeze(0).cpu().numpy()  # Elimina una dimensión al batch (la agregada al principio) y mueve la imagen a la CPU\n",
        "\n",
        "plt.imshow(image[0], cmap='gray')\n",
        "plt.show()"
      ],
      "metadata": {
        "colab": {
          "base_uri": "https://localhost:8080/",
          "height": 502
        },
        "id": "U8ym2ffq8oQm",
        "outputId": "50705079-c762-4ca9-cf9d-c31556148b6f"
      },
      "execution_count": null,
      "outputs": [
        {
          "output_type": "stream",
          "name": "stdout",
          "text": [
            "Predicted class: 8\n"
          ]
        },
        {
          "output_type": "stream",
          "name": "stderr",
          "text": [
            "<ipython-input-42-927416168881>:5: UserWarning: To copy construct from a tensor, it is recommended to use sourceTensor.clone().detach() or sourceTensor.clone().detach().requires_grad_(True), rather than torch.tensor(sourceTensor).\n",
            "  output = model(torch.tensor(image)).to(device)\n"
          ]
        },
        {
          "output_type": "display_data",
          "data": {
            "text/plain": [
              "<Figure size 640x480 with 1 Axes>"
            ],
            "image/png": "[encoded data removed]"
          },
          "metadata": {}
        }
      ]
    }
  ]
}